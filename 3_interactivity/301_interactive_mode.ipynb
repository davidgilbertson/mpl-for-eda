{
 "cells": [
  {
   "cell_type": "code",
   "execution_count": 2,
   "id": "3d8edd59-749c-423d-9c3a-6b3aada9364b",
   "metadata": {
    "ExecuteTime": {
     "end_time": "2023-12-12T01:14:30.332392600Z",
     "start_time": "2023-12-12T01:14:30.265483Z"
    }
   },
   "outputs": [
    {
     "data": {
      "text/plain": "[<matplotlib.lines.Line2D at 0x1a297bea200>]"
     },
     "execution_count": 2,
     "metadata": {},
     "output_type": "execute_result"
    }
   ],
   "source": [
    "import matplotlib.pyplot as plt\n",
    "\n",
    "plt.rcParams[\"backend\"] = \"TkAgg\"\n",
    "plt.ion()\n",
    "\n",
    "fig, ax = plt.subplots()\n",
    "\n",
    "ax.plot([1, 2, 3, 2, 3])"
   ]
  }
 ],
 "metadata": {
  "kernelspec": {
   "display_name": "Python 3 (ipykernel)",
   "language": "python",
   "name": "python3"
  },
  "language_info": {
   "codemirror_mode": {
    "name": "ipython",
    "version": 3
   },
   "file_extension": ".py",
   "mimetype": "text/x-python",
   "name": "python",
   "nbconvert_exporter": "python",
   "pygments_lexer": "ipython3",
   "version": "3.10.2"
  }
 },
 "nbformat": 4,
 "nbformat_minor": 5
}
